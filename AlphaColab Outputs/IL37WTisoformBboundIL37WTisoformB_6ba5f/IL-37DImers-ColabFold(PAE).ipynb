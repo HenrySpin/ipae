{
 "cells": [
  {
   "cell_type": "code",
   "execution_count": 5,
   "id": "6561ae5b",
   "metadata": {},
   "outputs": [
    {
     "name": "stdout",
     "output_type": "stream",
     "text": [
      "PAE shape: (346, 346)\n",
      "Any NaNs in PAE? False\n",
      "10.458325871228574\n"
     ]
    }
   ],
   "source": [
    "#DATA for IL-37D73k dimer\n",
    "import json\n",
    "import numpy as np\n",
    "\n",
    "# Define binder length and file path\n",
    "binder_length = 173\n",
    "file_path = r\"C:\\Users\\henry\\OneDrive - Emory\\Rafiq lab\\R.LAB Fall 2025\\ipae\\AlphaColab Outputs\\IIL37D73kisoformBboundIL37D73kisoformB_6ba5f\\IIL37D73kisoformBboundIL37D73kisoformB_6ba5f_predicted_aligned_error_v1.json\"\n",
    "# Load JSON file\n",
    "with open(file_path, \"r\") as f:\n",
    "    data = json.load(f)\n",
    "paeIL37 = np.array(data[\"predicted_aligned_error\"])\n",
    "print(\"PAE shape:\", pae.shape)\n",
    "print(\"Any NaNs in PAE?\", np.isnan(paeIL37).any())\n",
    "upper = paeIL37[:binder_length,binder_length:].reshape(-1)\n",
    "lower = paeIL37[binder_length:,:binder_length].reshape(-1)\n",
    "#print(upper, lower)\n",
    "\n",
    "pae_i = np.mean(np.concatenate([upper,lower]))\n",
    "print(pae_i)\n"
   ]
  },
  {
   "cell_type": "code",
   "execution_count": 1,
   "id": "a50ad218",
   "metadata": {},
   "outputs": [
    {
     "name": "stdout",
     "output_type": "stream",
     "text": [
      "PAE shape: (346, 346)\n",
      "Any NaNs in PAE? False\n",
      "10.458325871228574\n"
     ]
    }
   ],
   "source": [
    "#DATA for IL-37 dimer\n",
    "import json\n",
    "import numpy as np\n",
    "# Define binder length and file path\n",
    "binder_length = 173\n",
    "file_path2 = r\"C:\\Users\\henry\\OneDrive - Emory\\Rafiq lab\\R.LAB Fall 2025\\ipae\\AlphaColab Outputs\\IL37WTisoformBboundIL37WTisoformB_6ba5f\\IL37WTisoformBboundIL37WTisoformB_6ba5f_predicted_aligned_error_v1.json\"\n",
    "# Load JSON file\n",
    "with open(file_path2, \"r\") as f:\n",
    "    data = json.load(f)\n",
    "pae = np.array(data[\"predicted_aligned_error\"])\n",
    "print(\"PAE shape:\", pae.shape)\n",
    "print(\"Any NaNs in PAE?\", np.isnan(pae).any())\n",
    "upper = pae[:binder_length,binder_length:].reshape(-1)\n",
    "lower = pae[binder_length:,:binder_length].reshape(-1)\n",
    "\n",
    "#print(upper, lower)\n",
    "\n",
    "pae_i = np.mean(np.concatenate([upper,lower]))\n",
    "print(pae_i)"
   ]
  },
  {
   "cell_type": "code",
   "execution_count": 3,
   "id": "b949f201",
   "metadata": {},
   "outputs": [
    {
     "name": "stdout",
     "output_type": "stream",
     "text": [
      "PAE shape: (346, 346)\n",
      "Any NaNs in PAE? False\n",
      "10.458325871228574\n"
     ]
    }
   ],
   "source": [
    "#DATA for IL-37WT -- IL-37D73K\n",
    "#DATA for IL-37 dimer\n",
    "import json\n",
    "import numpy as np\n",
    "# Define binder length and file path\n",
    "binder_length = 173\n",
    "file_path_C3 = r\"C:\\Users\\henry\\OneDrive - Emory\\Rafiq lab\\R.LAB Fall 2025\\ipae\\AlphaColab Outputs\\IL37WTisoformBboundIL37D73kisoformB_6ba5f\\IL37WTisoformBboundIL37D73kisoformB_6ba5f_predicted_aligned_error_v1.json\"\n",
    "# Load JSON file\n",
    "with open(file_path_C3, \"r\") as f:\n",
    "    data_C3 = json.load(f)\n",
    "pae_C3 = np.array(data_C3[\"predicted_aligned_error\"])\n",
    "print(\"PAE shape:\", pae_C3.shape)\n",
    "print(\"Any NaNs in PAE?\", np.isnan(pae_C3).any())\n",
    "upper_C3 = pae_C3[:binder_length,binder_length:].reshape(-1)\n",
    "lower_C3 = pae_C3[binder_length:,:binder_length].reshape(-1)\n",
    "\n",
    "#print(upper, lower)\n",
    "\n",
    "pae_i_C3 = np.mean(np.concatenate([upper_C3,lower_C3]))\n",
    "print(pae_i_C3)"
   ]
  },
  {
   "cell_type": "code",
   "execution_count": 7,
   "id": "2edcb0c3",
   "metadata": {},
   "outputs": [
    {
     "data": {
      "text/plain": [
       "True"
      ]
     },
     "execution_count": 7,
     "metadata": {},
     "output_type": "execute_result"
    }
   ],
   "source": [
    "np.array_equal(pae_C3, paeIL37)"
   ]
  }
 ],
 "metadata": {
  "kernelspec": {
   "display_name": "base",
   "language": "python",
   "name": "python3"
  },
  "language_info": {
   "codemirror_mode": {
    "name": "ipython",
    "version": 3
   },
   "file_extension": ".py",
   "mimetype": "text/x-python",
   "name": "python",
   "nbconvert_exporter": "python",
   "pygments_lexer": "ipython3",
   "version": "3.13.5"
  }
 },
 "nbformat": 4,
 "nbformat_minor": 5
}
