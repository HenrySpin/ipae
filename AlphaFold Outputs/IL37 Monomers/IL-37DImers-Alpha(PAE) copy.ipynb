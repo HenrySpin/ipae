{
 "cells": [
  {
   "cell_type": "code",
   "execution_count": 2,
   "id": "6561ae5b",
   "metadata": {},
   "outputs": [
    {
     "name": "stdout",
     "output_type": "stream",
     "text": [
      "22.94636472986067\n"
     ]
    }
   ],
   "source": [
    "#DATA for IL-37D73k dimer AlphaFold\n",
    "import json\n",
    "import numpy as np\n",
    "\n",
    "# Define binder length and file path\n",
    "binder_length = 173\n",
    "file_path = r\"AlphaFold Outputs\\fold_2025_10_05_igg2hsp_il37_d73k_isoform_b_bound_igg2hsp_il37_d73k_isoform_b_full_data_0.json\"\n",
    "# Load JSON file\n",
    "with open(file_path, \"r\") as f:\n",
    "    data1 = json.load(f)\n",
    "pae1 = np.array(data1[\"pae\"])\n",
    "\n",
    "upper1 = pae1[:binder_length,binder_length:].reshape(-1)\n",
    "lower1 = pae1[binder_length:,:binder_length].reshape(-1)\n",
    "#print(upper, lower)\n",
    "\n",
    "pae_i_1 = np.mean(np.concatenate([upper1,lower1]))\n",
    "print(pae_i_1)\n"
   ]
  },
  {
   "cell_type": "code",
   "execution_count": 9,
   "id": "a50ad218",
   "metadata": {},
   "outputs": [
    {
     "name": "stdout",
     "output_type": "stream",
     "text": [
      "PAE shape: (346, 346)\n",
      "Any NaNs in PAE? False\n",
      "22.94636472986067\n"
     ]
    }
   ],
   "source": [
    "#DATA for IL-37 dimer\n",
    "import json\n",
    "import numpy as np\n",
    "# Define binder length and file path\n",
    "binder_length = 173\n",
    "file_path1 = r\"AlphaFold Outputs\\fold_2025_10_05_il37_wt_isoform_b_bound_igg2hsp_il37_d73k_isoform_b_full_data_0.json\"\n",
    "# Load JSON file\n",
    "with open(file_path, \"r\") as f:\n",
    "    data2 = json.load(f)\n",
    "pae2 = np.array(data2[\"pae\"])\n",
    "print(\"PAE shape:\", pae2.shape)\n",
    "print(\"Any NaNs in PAE?\", np.isnan(pae2).any())\n",
    "upper2 = pae2[:binder_length,binder_length:].reshape(-1)\n",
    "lower2 = pae2[binder_length:,:binder_length].reshape(-1)\n",
    "\n",
    "#print(upper, lower)\n",
    "#print(upper, lower)\n",
    "\n",
    "pae_i_2 = np.mean(np.concatenate([upper2,lower2]))\n",
    "print(pae_i_2)"
   ]
  },
  {
   "cell_type": "code",
   "execution_count": null,
   "id": "b949f201",
   "metadata": {},
   "outputs": [
    {
     "name": "stdout",
     "output_type": "stream",
     "text": [
      "PAE shape: (346, 346)\n",
      "Any NaNs in PAE? False\n",
      "13.890455745263791\n"
     ]
    }
   ],
   "source": [
    "#DATA for IL-37WT -- IL-wt\n",
    "#DATA for IL-37 dimer\n",
    "import json\n",
    "import numpy as np\n",
    "# Define binder length and file path\n",
    "binder_length = 173\n",
    "file_path3 = r\"AlphaFold Outputs\\fold_2025_10_05_il37_wt_isoform_b_bound_il37_wt_isoform_b_full_data_0.json\"\n",
    "# Load JSON file\n",
    "with open(file_path3, \"r\") as f:\n",
    "    data3 = json.load(f)\n",
    "pae3 = np.array(data3[\"pae\"])\n",
    "print(\"PAE shape:\", pae3.shape)\n",
    "print(\"Any NaNs in PAE?\", np.isnan(pae3).any())\n",
    "upper3 = pae3[:binder_length,binder_length:].reshape(-1)\n",
    "lower3 = pae3[binder_length:,:binder_length].reshape(-1)\n",
    "\n",
    "#print(upper, lower)\n",
    "\n",
    "pae_i_3 = np.mean(np.concatenate([upper3,lower3]))\n",
    "print(pae_i_3)"
   ]
  },
  {
   "cell_type": "code",
   "execution_count": 10,
   "id": "2edcb0c3",
   "metadata": {},
   "outputs": [
    {
     "data": {
      "text/plain": [
       "False"
      ]
     },
     "execution_count": 10,
     "metadata": {},
     "output_type": "execute_result"
    }
   ],
   "source": [
    "np.array_equal(pae2, pae3)"
   ]
  }
 ],
 "metadata": {
  "kernelspec": {
   "display_name": "base",
   "language": "python",
   "name": "python3"
  },
  "language_info": {
   "codemirror_mode": {
    "name": "ipython",
    "version": 3
   },
   "file_extension": ".py",
   "mimetype": "text/x-python",
   "name": "python",
   "nbconvert_exporter": "python",
   "pygments_lexer": "ipython3",
   "version": "3.13.5"
  }
 },
 "nbformat": 4,
 "nbformat_minor": 5
}
