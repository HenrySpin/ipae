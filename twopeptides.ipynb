import numpy as np

binder_length = 460
# 0 inclusive
pae = np.array([])

upper = pae[:binder_length,binder_length:].reshape(-1)
lower = pae[binder_length:,:binder_length].reshape(-1)

#print(upper, lower)

pae_i = np.mean(np.concatenate([upper,lower]))
print(pae_i)
